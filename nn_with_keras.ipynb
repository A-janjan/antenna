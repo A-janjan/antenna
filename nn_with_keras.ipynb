{
 "cells": [
  {
   "cell_type": "code",
   "execution_count": 12,
   "metadata": {},
   "outputs": [],
   "source": [
    "# analysis on metamaterial antenna with Neural Networks\n",
    "\n",
    "import pandas as pd\n",
    "import numpy as np\n",
    "\n",
    "df = pd.read_csv('antenna.csv')"
   ]
  },
  {
   "cell_type": "code",
   "execution_count": 13,
   "metadata": {},
   "outputs": [
    {
     "data": {
      "text/html": [
       "<div>\n",
       "<style scoped>\n",
       "    .dataframe tbody tr th:only-of-type {\n",
       "        vertical-align: middle;\n",
       "    }\n",
       "\n",
       "    .dataframe tbody tr th {\n",
       "        vertical-align: top;\n",
       "    }\n",
       "\n",
       "    .dataframe thead th {\n",
       "        text-align: right;\n",
       "    }\n",
       "</style>\n",
       "<table border=\"1\" class=\"dataframe\">\n",
       "  <thead>\n",
       "    <tr style=\"text-align: right;\">\n",
       "      <th></th>\n",
       "      <th>Wm</th>\n",
       "      <th>W0m</th>\n",
       "      <th>dm</th>\n",
       "      <th>tm</th>\n",
       "      <th>rows</th>\n",
       "      <th>Xa</th>\n",
       "      <th>Ya</th>\n",
       "      <th>gain</th>\n",
       "      <th>vswr</th>\n",
       "      <th>bandwidth</th>\n",
       "      <th>s</th>\n",
       "      <th>pr</th>\n",
       "      <th>p0</th>\n",
       "    </tr>\n",
       "  </thead>\n",
       "  <tbody>\n",
       "    <tr>\n",
       "      <th>0</th>\n",
       "      <td>2142.9</td>\n",
       "      <td>162.86</td>\n",
       "      <td>77.143</td>\n",
       "      <td>214.29</td>\n",
       "      <td>3.0</td>\n",
       "      <td>3543.5</td>\n",
       "      <td>2142.9</td>\n",
       "      <td>2.799175</td>\n",
       "      <td>1.372040</td>\n",
       "      <td>110.6698</td>\n",
       "      <td>-16.090654</td>\n",
       "      <td>0.204248</td>\n",
       "      <td>0.483952</td>\n",
       "    </tr>\n",
       "    <tr>\n",
       "      <th>1</th>\n",
       "      <td>2142.9</td>\n",
       "      <td>162.86</td>\n",
       "      <td>77.143</td>\n",
       "      <td>214.29</td>\n",
       "      <td>3.0</td>\n",
       "      <td>3543.5</td>\n",
       "      <td>6964.3</td>\n",
       "      <td>2.817305</td>\n",
       "      <td>1.638103</td>\n",
       "      <td>120.7497</td>\n",
       "      <td>-12.328015</td>\n",
       "      <td>0.197374</td>\n",
       "      <td>0.464289</td>\n",
       "    </tr>\n",
       "    <tr>\n",
       "      <th>2</th>\n",
       "      <td>2142.9</td>\n",
       "      <td>162.86</td>\n",
       "      <td>351.430</td>\n",
       "      <td>214.29</td>\n",
       "      <td>5.0</td>\n",
       "      <td>8365.0</td>\n",
       "      <td>6964.3</td>\n",
       "      <td>2.941413</td>\n",
       "      <td>1.242714</td>\n",
       "      <td>123.6901</td>\n",
       "      <td>-19.313586</td>\n",
       "      <td>0.212885</td>\n",
       "      <td>0.490808</td>\n",
       "    </tr>\n",
       "    <tr>\n",
       "      <th>3</th>\n",
       "      <td>2142.9</td>\n",
       "      <td>162.86</td>\n",
       "      <td>351.430</td>\n",
       "      <td>214.29</td>\n",
       "      <td>3.0</td>\n",
       "      <td>8365.0</td>\n",
       "      <td>2142.9</td>\n",
       "      <td>2.844078</td>\n",
       "      <td>1.242587</td>\n",
       "      <td>122.4301</td>\n",
       "      <td>-19.317644</td>\n",
       "      <td>0.212405</td>\n",
       "      <td>0.496603</td>\n",
       "    </tr>\n",
       "    <tr>\n",
       "      <th>4</th>\n",
       "      <td>2142.9</td>\n",
       "      <td>162.86</td>\n",
       "      <td>351.430</td>\n",
       "      <td>214.29</td>\n",
       "      <td>3.0</td>\n",
       "      <td>8365.0</td>\n",
       "      <td>6964.3</td>\n",
       "      <td>2.812315</td>\n",
       "      <td>1.271176</td>\n",
       "      <td>124.3198</td>\n",
       "      <td>-18.459992</td>\n",
       "      <td>0.207997</td>\n",
       "      <td>0.489240</td>\n",
       "    </tr>\n",
       "  </tbody>\n",
       "</table>\n",
       "</div>"
      ],
      "text/plain": [
       "       Wm     W0m       dm      tm  rows      Xa      Ya      gain      vswr  \\\n",
       "0  2142.9  162.86   77.143  214.29   3.0  3543.5  2142.9  2.799175  1.372040   \n",
       "1  2142.9  162.86   77.143  214.29   3.0  3543.5  6964.3  2.817305  1.638103   \n",
       "2  2142.9  162.86  351.430  214.29   5.0  8365.0  6964.3  2.941413  1.242714   \n",
       "3  2142.9  162.86  351.430  214.29   3.0  8365.0  2142.9  2.844078  1.242587   \n",
       "4  2142.9  162.86  351.430  214.29   3.0  8365.0  6964.3  2.812315  1.271176   \n",
       "\n",
       "   bandwidth          s        pr        p0  \n",
       "0   110.6698 -16.090654  0.204248  0.483952  \n",
       "1   120.7497 -12.328015  0.197374  0.464289  \n",
       "2   123.6901 -19.313586  0.212885  0.490808  \n",
       "3   122.4301 -19.317644  0.212405  0.496603  \n",
       "4   124.3198 -18.459992  0.207997  0.489240  "
      ]
     },
     "execution_count": 13,
     "metadata": {},
     "output_type": "execute_result"
    }
   ],
   "source": [
    "df.head()"
   ]
  },
  {
   "cell_type": "code",
   "execution_count": 14,
   "metadata": {},
   "outputs": [
    {
     "name": "stdout",
     "output_type": "stream",
     "text": [
      "Columns:  13\n",
      "Rows:  572\n"
     ]
    }
   ],
   "source": [
    "print( \"Columns: \" , len(df.columns))\n",
    "print(\"Rows: \" , len(df.rows))"
   ]
  },
  {
   "cell_type": "code",
   "execution_count": 15,
   "metadata": {},
   "outputs": [
    {
     "name": "stdout",
     "output_type": "stream",
     "text": [
      "Wm            0\n",
      "W0m           0\n",
      "dm            0\n",
      "tm            0\n",
      "rows          0\n",
      "Xa            0\n",
      "Ya            0\n",
      "gain          0\n",
      "vswr          0\n",
      "bandwidth    63\n",
      "s             0\n",
      "pr            0\n",
      "p0            0\n",
      "dtype: int64\n"
     ]
    }
   ],
   "source": [
    "# check for null\n",
    "\n",
    "print(df.isnull().sum())"
   ]
  },
  {
   "cell_type": "code",
   "execution_count": 16,
   "metadata": {},
   "outputs": [
    {
     "name": "stdout",
     "output_type": "stream",
     "text": [
      "Wm           0\n",
      "W0m          0\n",
      "dm           0\n",
      "tm           0\n",
      "rows         0\n",
      "Xa           0\n",
      "Ya           0\n",
      "gain         0\n",
      "vswr         0\n",
      "bandwidth    0\n",
      "s            0\n",
      "pr           0\n",
      "p0           0\n",
      "dtype: int64\n"
     ]
    }
   ],
   "source": [
    "# in Neural network we put 0 in null values\n",
    "\n",
    "df.fillna(value=0, inplace=True)\n",
    "print(df.isnull().sum())"
   ]
  },
  {
   "cell_type": "code",
   "execution_count": 17,
   "metadata": {},
   "outputs": [],
   "source": [
    "# define x and y\n",
    "\n",
    "x = df.drop('bandwidth', axis=1)\n",
    "y = df['bandwidth']"
   ]
  },
  {
   "cell_type": "code",
   "execution_count": 18,
   "metadata": {},
   "outputs": [],
   "source": [
    "# converting to numpy array\n",
    "\n",
    "x = x.iloc[:,:].values\n",
    "y = y.iloc[:].values"
   ]
  },
  {
   "cell_type": "code",
   "execution_count": 19,
   "metadata": {},
   "outputs": [],
   "source": [
    "# train-test split\n",
    "\n",
    "from sklearn.model_selection import train_test_split\n",
    "\n",
    "x_train, x_test, y_train, y_test = train_test_split(x,y, test_size=0.2)"
   ]
  },
  {
   "cell_type": "code",
   "execution_count": 20,
   "metadata": {},
   "outputs": [],
   "source": [
    "# normalization x -> (x-ave)/std                (based on train_data average and std)\n",
    "\n",
    "from sklearn.preprocessing import StandardScaler\n",
    "\n",
    "sc = StandardScaler()\n",
    "sc.fit(x_train)\n",
    "x_train = sc.transform(x_train)\n",
    "x_test = sc.transform(x_test)"
   ]
  },
  {
   "cell_type": "code",
   "execution_count": 21,
   "metadata": {},
   "outputs": [],
   "source": [
    "# NN Structure for our <<regression>> problem\n",
    "\n",
    "from keras.models import Sequential\n",
    "from keras.layers import Dense\n",
    "\n",
    "def build_model():\n",
    "    model = Sequential()\n",
    "    model.add(Dense(64, activation='relu', input_shape=(12,)))\n",
    "    model.add(Dense(64, activation='relu'))\n",
    "    model.add(Dense(1))\n",
    "    model.compile(optimizer='rmsprop', loss='mse', metrics=['mae'])\n",
    "    return model"
   ]
  },
  {
   "cell_type": "code",
   "execution_count": 22,
   "metadata": {},
   "outputs": [
    {
     "name": "stdout",
     "output_type": "stream",
     "text": [
      "processing fold # 1\n",
      "processing fold # 2\n",
      "processing fold # 3\n",
      "processing fold # 4\n",
      "processing fold # 5\n"
     ]
    }
   ],
   "source": [
    "# K-fold validation\n",
    "# because our amount of data is low\n",
    "\n",
    "k=5\n",
    "num_val_samples = len(x_train)//k\n",
    "num_epochs=500\n",
    "all_mae_histories = []\n",
    "for i in range(k):\n",
    "    print(\"processing fold #\",i+1)\n",
    "    x_val = x_train[i*num_val_samples: (i+1)*num_val_samples]\n",
    "    y_val = y_train[i*num_val_samples:(i+1)*num_val_samples]\n",
    "    partial_x_train = np.concatenate([x_train[:i*num_val_samples], x_train[(i+1)*num_val_samples:]],axis=0)\n",
    "    partial_y_train = np.concatenate([y_train[:i*num_val_samples], y_train[(i+1)*num_val_samples:]], axis=0)\n",
    "    model = build_model()\n",
    "    history = model.fit(partial_x_train, partial_y_train, validation_data=(x_val, y_val),\n",
    "                       epochs=num_epochs, batch_size=1, verbose=0)\n",
    "    mae_history = history.history['val_mae']\n",
    "    all_mae_histories.append(mae_history)"
   ]
  },
  {
   "cell_type": "code",
   "execution_count": 23,
   "metadata": {},
   "outputs": [],
   "source": [
    "# Building the history of successive mean K-fold validation scores\n",
    "\n",
    "average_mae_history = [\n",
    "    np.mean([x[i] for x in all_mae_histories]) for i in range(num_epochs)\n",
    "]"
   ]
  },
  {
   "cell_type": "code",
   "execution_count": 24,
   "metadata": {},
   "outputs": [
    {
     "data": {
      "image/png": "[encoded data removed]",
      "text/plain": [
       "<Figure size 432x288 with 1 Axes>"
      ]
     },
     "metadata": {
      "needs_background": "light"
     },
     "output_type": "display_data"
    }
   ],
   "source": [
    "# Plotting validation scores\n",
    "\n",
    "import matplotlib.pyplot as plt\n",
    "\n",
    "plt.plot(range(1,len(average_mae_history)+1), average_mae_history)\n",
    "plt.xlabel('Epochs')\n",
    "plt.ylabel('Validation MAE')\n",
    "plt.show()"
   ]
  },
  {
   "cell_type": "code",
   "execution_count": 25,
   "metadata": {},
   "outputs": [
    {
     "data": {
      "image/png": "[encoded data removed]",
      "text/plain": [
       "<Figure size 432x288 with 1 Axes>"
      ]
     },
     "metadata": {
      "needs_background": "light"
     },
     "output_type": "display_data"
    }
   ],
   "source": [
    "# remove first 10 data points and smoothing the curve\n",
    "\n",
    "def smooth_curve(points, factor=0.9):\n",
    "    smoothed_points = []\n",
    "    for point in points:\n",
    "        if smoothed_points:\n",
    "            previous = smoothed_points[-1]\n",
    "            smoothed_points.append(previous*factor+point*(1-factor))\n",
    "        else:\n",
    "            smoothed_points.append(point)\n",
    "    return smoothed_points\n",
    "\n",
    "smooth_mae_history = smooth_curve(average_mae_history[10:])\n",
    "\n",
    "plt.clf()\n",
    "plt.plot(range(1, len(smooth_mae_history)+1), smooth_mae_history)\n",
    "plt.xlabel('Epochs')\n",
    "plt.ylabel('Validation MAE')\n",
    "plt.show()"
   ]
  },
  {
   "cell_type": "code",
   "execution_count": 27,
   "metadata": {},
   "outputs": [
    {
     "name": "stdout",
     "output_type": "stream",
     "text": [
      "4/4 [==============================] - 0s 2ms/step - loss: 0.7393 - mae: 0.6588\n",
      "test mae score:  0.6587653756141663\n"
     ]
    }
   ],
   "source": [
    "# final score\n",
    "\n",
    "test_mse_score, test_mae_score = model.evaluate(x_test, y_test)\n",
    "print('test mae score: ', test_mae_score)\n"
   ]
  },
  {
   "cell_type": "code",
   "execution_count": null,
   "metadata": {},
   "outputs": [],
   "source": [
    "# Our model is very good !!!"
   ]
  }
 ],
 "metadata": {
  "kernelspec": {
   "display_name": "Python 3",
   "language": "python",
   "name": "python3"
  },
  "language_info": {
   "codemirror_mode": {
    "name": "ipython",
    "version": 3
   },
   "file_extension": ".py",
   "mimetype": "text/x-python",
   "name": "python",
   "nbconvert_exporter": "python",
   "pygments_lexer": "ipython3",
   "version": "3.8.3"
  }
 },
 "nbformat": 4,
 "nbformat_minor": 4
}
